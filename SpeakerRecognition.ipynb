{
 "cells": [
  {
   "cell_type": "code",
   "execution_count": 1,
   "id": "ed2ba0fb",
   "metadata": {},
   "outputs": [],
   "source": [
    "import librosa\n",
    "audio_file_path=r'C:\\Mtech1styr\\Speeker Recognition(dataset)\\UrbanSound8K\\audio\\fold1\\7061-6-0-0.wav'\n",
    "librosa_audio_data,librosa_sample_rate=librosa.load(audio_file_path)"
   ]
  },
  {
   "cell_type": "code",
   "execution_count": 2,
   "id": "14c62531",
   "metadata": {},
   "outputs": [
    {
     "name": "stdout",
     "output_type": "stream",
     "text": [
      "[0.0000000e+00 0.0000000e+00 0.0000000e+00 ... 1.0231203e-05 2.3116412e-05\n",
      " 0.0000000e+00]\n"
     ]
    }
   ],
   "source": [
    "print(librosa_audio_data)"
   ]
  },
  {
   "cell_type": "code",
   "execution_count": 3,
   "id": "166279b2",
   "metadata": {},
   "outputs": [
    {
     "data": {
      "text/plain": [
       "[<matplotlib.lines.Line2D at 0x2238d94b2e0>]"
      ]
     },
     "execution_count": 3,
     "metadata": {},
     "output_type": "execute_result"
    },
    {
     "data": {
      "image/png": "[encoded data removed]",
      "text/plain": [
       "<Figure size 864x288 with 1 Axes>"
      ]
     },
     "metadata": {
      "needs_background": "light"
     },
     "output_type": "display_data"
    }
   ],
   "source": [
    "### Lets plot the librosa audio data\n",
    "import matplotlib.pyplot as plt\n",
    "# Original audio with 1 channel \n",
    "plt.figure(figsize=(12, 4))\n",
    "plt.plot(librosa_audio_data)"
   ]
  },
  {
   "cell_type": "code",
   "execution_count": 4,
   "id": "b8c138d8",
   "metadata": {},
   "outputs": [
    {
     "name": "stdout",
     "output_type": "stream",
     "text": [
      "(40, 173)\n"
     ]
    }
   ],
   "source": [
    "mfccs = librosa.feature.mfcc(y=librosa_audio_data, sr=librosa_sample_rate, n_mfcc=40)\n",
    "print(mfccs.shape)"
   ]
  },
  {
   "cell_type": "code",
   "execution_count": 5,
   "id": "99bb8c33",
   "metadata": {},
   "outputs": [
    {
     "data": {
      "text/plain": [
       "array([[-236.01546   , -223.33238   , -230.81067   , ..., -232.38414   ,\n",
       "        -229.38951   , -224.5962    ],\n",
       "       [ 150.09904   ,  164.82231   ,  176.60326   , ...,  196.70139   ,\n",
       "         190.409     ,  162.91656   ],\n",
       "       [   4.2535515 ,  -11.223283  ,  -28.130497  , ...,  -24.908518  ,\n",
       "         -23.637192  ,   -4.0557647 ],\n",
       "       ...,\n",
       "       [  -0.43494892,   -1.9926164 ,   -6.212633  , ...,   -4.0844183 ,\n",
       "          -2.935854  ,   -5.927884  ],\n",
       "       [  -1.6773992 ,    2.6210585 ,    7.741791  , ...,   -9.845162  ,\n",
       "          -9.999222  ,   -5.2083163 ],\n",
       "       [   2.4558196 ,    1.8101326 ,   -0.4259416 , ...,   -2.7711093 ,\n",
       "          -5.384906  ,   -2.728547  ]], dtype=float32)"
      ]
     },
     "execution_count": 5,
     "metadata": {},
     "output_type": "execute_result"
    }
   ],
   "source": [
    "mfccs"
   ]
  },
  {
   "cell_type": "code",
   "execution_count": 6,
   "id": "fd133f55",
   "metadata": {},
   "outputs": [
    {
     "data": {
      "text/html": [
       "<div>\n",
       "<style scoped>\n",
       "    .dataframe tbody tr th:only-of-type {\n",
       "        vertical-align: middle;\n",
       "    }\n",
       "\n",
       "    .dataframe tbody tr th {\n",
       "        vertical-align: top;\n",
       "    }\n",
       "\n",
       "    .dataframe thead th {\n",
       "        text-align: right;\n",
       "    }\n",
       "</style>\n",
       "<table border=\"1\" class=\"dataframe\">\n",
       "  <thead>\n",
       "    <tr style=\"text-align: right;\">\n",
       "      <th></th>\n",
       "      <th>slice_file_name</th>\n",
       "      <th>fsID</th>\n",
       "      <th>start</th>\n",
       "      <th>end</th>\n",
       "      <th>salience</th>\n",
       "      <th>fold</th>\n",
       "      <th>classID</th>\n",
       "      <th>class</th>\n",
       "    </tr>\n",
       "  </thead>\n",
       "  <tbody>\n",
       "    <tr>\n",
       "      <th>0</th>\n",
       "      <td>100032-3-0-0.wav</td>\n",
       "      <td>100032</td>\n",
       "      <td>0.0</td>\n",
       "      <td>0.317551</td>\n",
       "      <td>1</td>\n",
       "      <td>5</td>\n",
       "      <td>3</td>\n",
       "      <td>dog_bark</td>\n",
       "    </tr>\n",
       "    <tr>\n",
       "      <th>1</th>\n",
       "      <td>100263-2-0-117.wav</td>\n",
       "      <td>100263</td>\n",
       "      <td>58.5</td>\n",
       "      <td>62.500000</td>\n",
       "      <td>1</td>\n",
       "      <td>5</td>\n",
       "      <td>2</td>\n",
       "      <td>children_playing</td>\n",
       "    </tr>\n",
       "    <tr>\n",
       "      <th>2</th>\n",
       "      <td>100263-2-0-121.wav</td>\n",
       "      <td>100263</td>\n",
       "      <td>60.5</td>\n",
       "      <td>64.500000</td>\n",
       "      <td>1</td>\n",
       "      <td>5</td>\n",
       "      <td>2</td>\n",
       "      <td>children_playing</td>\n",
       "    </tr>\n",
       "    <tr>\n",
       "      <th>3</th>\n",
       "      <td>100263-2-0-126.wav</td>\n",
       "      <td>100263</td>\n",
       "      <td>63.0</td>\n",
       "      <td>67.000000</td>\n",
       "      <td>1</td>\n",
       "      <td>5</td>\n",
       "      <td>2</td>\n",
       "      <td>children_playing</td>\n",
       "    </tr>\n",
       "    <tr>\n",
       "      <th>4</th>\n",
       "      <td>100263-2-0-137.wav</td>\n",
       "      <td>100263</td>\n",
       "      <td>68.5</td>\n",
       "      <td>72.500000</td>\n",
       "      <td>1</td>\n",
       "      <td>5</td>\n",
       "      <td>2</td>\n",
       "      <td>children_playing</td>\n",
       "    </tr>\n",
       "  </tbody>\n",
       "</table>\n",
       "</div>"
      ],
      "text/plain": [
       "      slice_file_name    fsID  start        end  salience  fold  classID  \\\n",
       "0    100032-3-0-0.wav  100032    0.0   0.317551         1     5        3   \n",
       "1  100263-2-0-117.wav  100263   58.5  62.500000         1     5        2   \n",
       "2  100263-2-0-121.wav  100263   60.5  64.500000         1     5        2   \n",
       "3  100263-2-0-126.wav  100263   63.0  67.000000         1     5        2   \n",
       "4  100263-2-0-137.wav  100263   68.5  72.500000         1     5        2   \n",
       "\n",
       "              class  \n",
       "0          dog_bark  \n",
       "1  children_playing  \n",
       "2  children_playing  \n",
       "3  children_playing  \n",
       "4  children_playing  "
      ]
     },
     "execution_count": 6,
     "metadata": {},
     "output_type": "execute_result"
    }
   ],
   "source": [
    "### Extracting MFCC's For every audio file\n",
    "import pandas as pd\n",
    "import os\n",
    "import librosa\n",
    "\n",
    "audio_dataset_path=r'C:\\Mtech1styr\\Speeker Recognition(dataset)\\UrbanSound8K\\audio'\n",
    "metadata=pd.read_csv(r'C:\\Mtech1styr\\Speeker Recognition(dataset)\\UrbanSound8K\\metadata\\UrbanSound8K.csv')\n",
    "metadata.head()"
   ]
  },
  {
   "cell_type": "code",
   "execution_count": 7,
   "id": "2b36d0b9",
   "metadata": {},
   "outputs": [],
   "source": [
    "def features_extractor(file):\n",
    "    audio, sample_rate = librosa.load(file_name, res_type='kaiser_fast') \n",
    "    mfccs_features = librosa.feature.mfcc(y=audio, sr=sample_rate, n_mfcc=40)\n",
    "    mfccs_scaled_features = np.mean(mfccs_features.T,axis=0)\n",
    "    \n",
    "    return mfccs_scaled_features"
   ]
  },
  {
   "cell_type": "code",
   "execution_count": 8,
   "id": "e5844886",
   "metadata": {},
   "outputs": [
    {
     "name": "stderr",
     "output_type": "stream",
     "text": [
      "3555it [05:09, 10.97it/s]C:\\Anaconda\\lib\\site-packages\\librosa\\util\\decorators.py:88: UserWarning: n_fft=2048 is too small for input signal of length=1323\n",
      "  return f(*args, **kwargs)\n",
      "8325it [12:41, 11.84it/s]C:\\Anaconda\\lib\\site-packages\\librosa\\util\\decorators.py:88: UserWarning: n_fft=2048 is too small for input signal of length=1103\n",
      "  return f(*args, **kwargs)\n",
      "C:\\Anaconda\\lib\\site-packages\\librosa\\util\\decorators.py:88: UserWarning: n_fft=2048 is too small for input signal of length=1523\n",
      "  return f(*args, **kwargs)\n",
      "8732it [13:30, 10.77it/s]\n"
     ]
    }
   ],
   "source": [
    "import numpy as np\n",
    "from tqdm import tqdm\n",
    "### Now we iterate through every audio file and extract features \n",
    "### using Mel-Frequency Cepstral Coefficients\n",
    "extracted_features=[]\n",
    "for index_num,row in tqdm(metadata.iterrows()):\n",
    "    file_name = os.path.join(os.path.abspath(audio_dataset_path),'fold'+str(row[\"fold\"])+'/',str(row[\"slice_file_name\"]))\n",
    "    final_class_labels=row[\"class\"]\n",
    "    data=features_extractor(file_name)\n",
    "    extracted_features.append([data,final_class_labels])"
   ]
  },
  {
   "cell_type": "code",
   "execution_count": 9,
   "id": "7e68adc5",
   "metadata": {},
   "outputs": [
    {
     "data": {
      "text/html": [
       "<div>\n",
       "<style scoped>\n",
       "    .dataframe tbody tr th:only-of-type {\n",
       "        vertical-align: middle;\n",
       "    }\n",
       "\n",
       "    .dataframe tbody tr th {\n",
       "        vertical-align: top;\n",
       "    }\n",
       "\n",
       "    .dataframe thead th {\n",
       "        text-align: right;\n",
       "    }\n",
       "</style>\n",
       "<table border=\"1\" class=\"dataframe\">\n",
       "  <thead>\n",
       "    <tr style=\"text-align: right;\">\n",
       "      <th></th>\n",
       "      <th>feature</th>\n",
       "      <th>class</th>\n",
       "    </tr>\n",
       "  </thead>\n",
       "  <tbody>\n",
       "    <tr>\n",
       "      <th>0</th>\n",
       "      <td>[-218.18938, 71.38549, -131.49442, -52.25892, ...</td>\n",
       "      <td>dog_bark</td>\n",
       "    </tr>\n",
       "    <tr>\n",
       "      <th>1</th>\n",
       "      <td>[-425.05234, 110.67095, -54.192833, 62.045406,...</td>\n",
       "      <td>children_playing</td>\n",
       "    </tr>\n",
       "    <tr>\n",
       "      <th>2</th>\n",
       "      <td>[-459.82623, 122.82864, -47.908062, 53.302677,...</td>\n",
       "      <td>children_playing</td>\n",
       "    </tr>\n",
       "    <tr>\n",
       "      <th>3</th>\n",
       "      <td>[-414.82184, 102.94826, -36.656853, 54.170742,...</td>\n",
       "      <td>children_playing</td>\n",
       "    </tr>\n",
       "    <tr>\n",
       "      <th>4</th>\n",
       "      <td>[-447.60776, 115.08627, -53.74607, 61.55309, 1...</td>\n",
       "      <td>children_playing</td>\n",
       "    </tr>\n",
       "  </tbody>\n",
       "</table>\n",
       "</div>"
      ],
      "text/plain": [
       "                                             feature             class\n",
       "0  [-218.18938, 71.38549, -131.49442, -52.25892, ...          dog_bark\n",
       "1  [-425.05234, 110.67095, -54.192833, 62.045406,...  children_playing\n",
       "2  [-459.82623, 122.82864, -47.908062, 53.302677,...  children_playing\n",
       "3  [-414.82184, 102.94826, -36.656853, 54.170742,...  children_playing\n",
       "4  [-447.60776, 115.08627, -53.74607, 61.55309, 1...  children_playing"
      ]
     },
     "execution_count": 9,
     "metadata": {},
     "output_type": "execute_result"
    }
   ],
   "source": [
    "### converting extracted_features to Pandas dataframe\n",
    "extracted_features_df=pd.DataFrame(extracted_features,columns=['feature','class'])\n",
    "extracted_features_df.head()"
   ]
  },
  {
   "cell_type": "code",
   "execution_count": 10,
   "id": "adc76e4d",
   "metadata": {},
   "outputs": [],
   "source": [
    "### Split the dataset into independent and dependent dataset\n",
    "X=np.array(extracted_features_df['feature'].tolist())\n",
    "y=np.array(extracted_features_df['class'].tolist())"
   ]
  },
  {
   "cell_type": "code",
   "execution_count": 11,
   "id": "ce87d122",
   "metadata": {},
   "outputs": [
    {
     "data": {
      "text/plain": [
       "(8732, 40)"
      ]
     },
     "execution_count": 11,
     "metadata": {},
     "output_type": "execute_result"
    }
   ],
   "source": [
    "X.shape"
   ]
  },
  {
   "cell_type": "code",
   "execution_count": 12,
   "id": "5c28f235",
   "metadata": {},
   "outputs": [
    {
     "data": {
      "text/plain": [
       "array(['dog_bark', 'children_playing', 'children_playing', ...,\n",
       "       'car_horn', 'car_horn', 'car_horn'], dtype='<U16')"
      ]
     },
     "execution_count": 12,
     "metadata": {},
     "output_type": "execute_result"
    }
   ],
   "source": [
    "y"
   ]
  },
  {
   "cell_type": "code",
   "execution_count": 13,
   "id": "74659940",
   "metadata": {},
   "outputs": [],
   "source": [
    "## Label Encoding\n",
    "y=np.array(pd.get_dummies(y))"
   ]
  },
  {
   "cell_type": "code",
   "execution_count": 14,
   "id": "42bb6baa",
   "metadata": {},
   "outputs": [
    {
     "data": {
      "text/plain": [
       "array([[0, 0, 0, ..., 0, 0, 0],\n",
       "       [0, 0, 1, ..., 0, 0, 0],\n",
       "       [0, 0, 1, ..., 0, 0, 0],\n",
       "       ...,\n",
       "       [0, 1, 0, ..., 0, 0, 0],\n",
       "       [0, 1, 0, ..., 0, 0, 0],\n",
       "       [0, 1, 0, ..., 0, 0, 0]], dtype=uint8)"
      ]
     },
     "execution_count": 14,
     "metadata": {},
     "output_type": "execute_result"
    }
   ],
   "source": [
    "y"
   ]
  },
  {
   "cell_type": "code",
   "execution_count": 15,
   "id": "6465d073",
   "metadata": {},
   "outputs": [],
   "source": [
    "### Train Test Split\n",
    "from sklearn.model_selection import train_test_split\n",
    "X_train,X_test,y_train,y_test=train_test_split(X,y,test_size=0.2,random_state=0)"
   ]
  },
  {
   "cell_type": "code",
   "execution_count": 16,
   "id": "8d1c8ccb",
   "metadata": {},
   "outputs": [
    {
     "data": {
      "text/plain": [
       "array([[-1.3211458e+02,  1.1391494e+02, -2.3927406e+01, ...,\n",
       "         3.3260243e+00, -1.4790288e+00,  2.8912868e+00],\n",
       "       [-1.4296137e+01,  9.1951004e+01, -8.6025953e+00, ...,\n",
       "        -3.3708370e+00, -5.2008629e+00, -1.5975088e+00],\n",
       "       [-4.9827820e+01,  1.8449357e-01, -2.0364500e+01, ...,\n",
       "         2.0259936e+00, -8.3159238e-01,  2.7930877e+00],\n",
       "       ...,\n",
       "       [-4.2723694e+02,  9.2938095e+01,  2.8287885e+00, ...,\n",
       "         8.1411344e-01,  6.6066748e-01,  7.8365982e-01],\n",
       "       [-1.4640692e+02,  1.3716916e+02, -3.4362492e+01, ...,\n",
       "         1.3839475e+00, -1.9667517e+00, -8.8792086e-01],\n",
       "       [-4.2171307e+02,  2.1160454e+02,  2.5852380e+00, ...,\n",
       "        -5.1338639e+00, -3.6135261e+00, -1.3413876e+00]], dtype=float32)"
      ]
     },
     "execution_count": 16,
     "metadata": {},
     "output_type": "execute_result"
    }
   ],
   "source": [
    "X_train"
   ]
  },
  {
   "cell_type": "code",
   "execution_count": 17,
   "id": "2db7e62c",
   "metadata": {},
   "outputs": [
    {
     "data": {
      "text/plain": [
       "array([[0, 0, 0, ..., 0, 0, 0],\n",
       "       [0, 0, 1, ..., 0, 0, 0],\n",
       "       [0, 0, 1, ..., 0, 0, 0],\n",
       "       ...,\n",
       "       [0, 1, 0, ..., 0, 0, 0],\n",
       "       [0, 1, 0, ..., 0, 0, 0],\n",
       "       [0, 1, 0, ..., 0, 0, 0]], dtype=uint8)"
      ]
     },
     "execution_count": 17,
     "metadata": {},
     "output_type": "execute_result"
    }
   ],
   "source": [
    "y"
   ]
  },
  {
   "cell_type": "code",
   "execution_count": 18,
   "id": "867798d9",
   "metadata": {},
   "outputs": [
    {
     "data": {
      "text/plain": [
       "(6985, 40)"
      ]
     },
     "execution_count": 18,
     "metadata": {},
     "output_type": "execute_result"
    }
   ],
   "source": [
    "X_train.shape"
   ]
  },
  {
   "cell_type": "code",
   "execution_count": 19,
   "id": "dbecd283",
   "metadata": {},
   "outputs": [
    {
     "data": {
      "text/plain": [
       "(1747, 40)"
      ]
     },
     "execution_count": 19,
     "metadata": {},
     "output_type": "execute_result"
    }
   ],
   "source": [
    "X_test.shape"
   ]
  },
  {
   "cell_type": "code",
   "execution_count": 20,
   "id": "45ee00e7",
   "metadata": {},
   "outputs": [
    {
     "data": {
      "text/plain": [
       "(6985, 10)"
      ]
     },
     "execution_count": 20,
     "metadata": {},
     "output_type": "execute_result"
    }
   ],
   "source": [
    "y_train.shape"
   ]
  },
  {
   "cell_type": "code",
   "execution_count": 21,
   "id": "c7fc1c5d",
   "metadata": {},
   "outputs": [
    {
     "data": {
      "text/plain": [
       "(1747, 10)"
      ]
     },
     "execution_count": 21,
     "metadata": {},
     "output_type": "execute_result"
    }
   ],
   "source": [
    "y_test.shape"
   ]
  },
  {
   "cell_type": "code",
   "execution_count": 22,
   "id": "3eba76da",
   "metadata": {},
   "outputs": [],
   "source": [
    "from tensorflow.keras.models import Sequential\n",
    "from tensorflow.keras.layers import Dense,Dropout,Activation,Flatten\n",
    "from tensorflow.keras.optimizers import Adam\n",
    "from sklearn import metrics"
   ]
  },
  {
   "cell_type": "code",
   "execution_count": 23,
   "id": "09519618",
   "metadata": {},
   "outputs": [],
   "source": [
    "### No of classes\n",
    "num_labels=y.shape[1]"
   ]
  },
  {
   "cell_type": "code",
   "execution_count": 24,
   "id": "487f9ac1",
   "metadata": {},
   "outputs": [],
   "source": [
    "model=Sequential()\n",
    "###first layer\n",
    "model.add(Dense(100,input_shape=(40,)))\n",
    "model.add(Activation('relu'))\n",
    "model.add(Dropout(0.5))\n",
    "###second layer\n",
    "model.add(Dense(200))\n",
    "model.add(Activation('relu'))\n",
    "model.add(Dropout(0.5))\n",
    "###third layer\n",
    "model.add(Dense(100))\n",
    "model.add(Activation('relu'))\n",
    "model.add(Dropout(0.5))\n",
    "\n",
    "###final layer\n",
    "model.add(Dense(num_labels))\n",
    "model.add(Activation('softmax'))"
   ]
  },
  {
   "cell_type": "code",
   "execution_count": 25,
   "id": "b4b031f9",
   "metadata": {},
   "outputs": [
    {
     "name": "stdout",
     "output_type": "stream",
     "text": [
      "Model: \"sequential\"\n",
      "_________________________________________________________________\n",
      " Layer (type)                Output Shape              Param #   \n",
      "=================================================================\n",
      " dense (Dense)               (None, 100)               4100      \n",
      "                                                                 \n",
      " activation (Activation)     (None, 100)               0         \n",
      "                                                                 \n",
      " dropout (Dropout)           (None, 100)               0         \n",
      "                                                                 \n",
      " dense_1 (Dense)             (None, 200)               20200     \n",
      "                                                                 \n",
      " activation_1 (Activation)   (None, 200)               0         \n",
      "                                                                 \n",
      " dropout_1 (Dropout)         (None, 200)               0         \n",
      "                                                                 \n",
      " dense_2 (Dense)             (None, 100)               20100     \n",
      "                                                                 \n",
      " activation_2 (Activation)   (None, 100)               0         \n",
      "                                                                 \n",
      " dropout_2 (Dropout)         (None, 100)               0         \n",
      "                                                                 \n",
      " dense_3 (Dense)             (None, 10)                1010      \n",
      "                                                                 \n",
      " activation_3 (Activation)   (None, 10)                0         \n",
      "                                                                 \n",
      "=================================================================\n",
      "Total params: 45,410\n",
      "Trainable params: 45,410\n",
      "Non-trainable params: 0\n",
      "_________________________________________________________________\n"
     ]
    }
   ],
   "source": [
    "model.summary()"
   ]
  },
  {
   "cell_type": "code",
   "execution_count": 26,
   "id": "51d6a1b0",
   "metadata": {},
   "outputs": [],
   "source": [
    "model.compile(loss='categorical_crossentropy',metrics=['accuracy'],optimizer='adam')"
   ]
  },
  {
   "cell_type": "code",
   "execution_count": 27,
   "id": "13fa4ffe",
   "metadata": {},
   "outputs": [
    {
     "name": "stdout",
     "output_type": "stream",
     "text": [
      "Epoch 1/100\n",
      "205/219 [===========================>..] - ETA: 0s - loss: 10.3777 - accuracy: 0.1212\n",
      "Epoch 00001: val_loss improved from inf to 2.27553, saving model to saved_models\\audio_classification.hdf5\n",
      "219/219 [==============================] - 3s 4ms/step - loss: 9.9147 - accuracy: 0.1201 - val_loss: 2.2755 - val_accuracy: 0.1351\n",
      "Epoch 2/100\n",
      "204/219 [==========================>...] - ETA: 0s - loss: 2.5225 - accuracy: 0.1408\n",
      "Epoch 00002: val_loss improved from 2.27553 to 2.26878, saving model to saved_models\\audio_classification.hdf5\n",
      "219/219 [==============================] - 1s 7ms/step - loss: 2.5139 - accuracy: 0.1409 - val_loss: 2.2688 - val_accuracy: 0.1276\n",
      "Epoch 3/100\n",
      "216/219 [============================>.] - ETA: 0s - loss: 2.3097 - accuracy: 0.1519\n",
      "Epoch 00003: val_loss improved from 2.26878 to 2.20183, saving model to saved_models\\audio_classification.hdf5\n",
      "219/219 [==============================] - 1s 3ms/step - loss: 2.3097 - accuracy: 0.1518 - val_loss: 2.2018 - val_accuracy: 0.1820\n",
      "Epoch 4/100\n",
      "213/219 [============================>.] - ETA: 0s - loss: 2.2570 - accuracy: 0.1643\n",
      "Epoch 00004: val_loss improved from 2.20183 to 2.17304, saving model to saved_models\\audio_classification.hdf5\n",
      "219/219 [==============================] - 1s 5ms/step - loss: 2.2581 - accuracy: 0.1626 - val_loss: 2.1730 - val_accuracy: 0.1826\n",
      "Epoch 5/100\n",
      "199/219 [==========================>...] - ETA: 0s - loss: 2.1882 - accuracy: 0.1762\n",
      "Epoch 00005: val_loss improved from 2.17304 to 2.09782, saving model to saved_models\\audio_classification.hdf5\n",
      "219/219 [==============================] - 1s 3ms/step - loss: 2.1829 - accuracy: 0.1790 - val_loss: 2.0978 - val_accuracy: 0.2232\n",
      "Epoch 6/100\n",
      "205/219 [===========================>..] - ETA: 0s - loss: 2.1608 - accuracy: 0.1942\n",
      "Epoch 00006: val_loss improved from 2.09782 to 2.07199, saving model to saved_models\\audio_classification.hdf5\n",
      "219/219 [==============================] - 1s 4ms/step - loss: 2.1571 - accuracy: 0.1938 - val_loss: 2.0720 - val_accuracy: 0.2232\n",
      "Epoch 7/100\n",
      "219/219 [==============================] - ETA: 0s - loss: 2.1255 - accuracy: 0.2179\n",
      "Epoch 00007: val_loss improved from 2.07199 to 2.03105, saving model to saved_models\\audio_classification.hdf5\n",
      "219/219 [==============================] - 1s 4ms/step - loss: 2.1255 - accuracy: 0.2179 - val_loss: 2.0311 - val_accuracy: 0.2433\n",
      "Epoch 8/100\n",
      "214/219 [============================>.] - ETA: 0s - loss: 2.0976 - accuracy: 0.2192\n",
      "Epoch 00008: val_loss improved from 2.03105 to 1.99402, saving model to saved_models\\audio_classification.hdf5\n",
      "219/219 [==============================] - 1s 4ms/step - loss: 2.0985 - accuracy: 0.2198 - val_loss: 1.9940 - val_accuracy: 0.2553\n",
      "Epoch 9/100\n",
      "209/219 [===========================>..] - ETA: 0s - loss: 2.0725 - accuracy: 0.2300\n",
      "Epoch 00009: val_loss improved from 1.99402 to 1.98593, saving model to saved_models\\audio_classification.hdf5\n",
      "219/219 [==============================] - 2s 7ms/step - loss: 2.0722 - accuracy: 0.2286 - val_loss: 1.9859 - val_accuracy: 0.2627\n",
      "Epoch 10/100\n",
      "214/219 [============================>.] - ETA: 0s - loss: 2.0524 - accuracy: 0.2430\n",
      "Epoch 00010: val_loss improved from 1.98593 to 1.95763, saving model to saved_models\\audio_classification.hdf5\n",
      "219/219 [==============================] - 1s 4ms/step - loss: 2.0523 - accuracy: 0.2440 - val_loss: 1.9576 - val_accuracy: 0.2816\n",
      "Epoch 11/100\n",
      "213/219 [============================>.] - ETA: 0s - loss: 2.0206 - accuracy: 0.2503\n",
      "Epoch 00011: val_loss did not improve from 1.95763\n",
      "219/219 [==============================] - 1s 3ms/step - loss: 2.0242 - accuracy: 0.2510 - val_loss: 1.9586 - val_accuracy: 0.2868\n",
      "Epoch 12/100\n",
      "213/219 [============================>.] - ETA: 0s - loss: 1.9920 - accuracy: 0.2654\n",
      "Epoch 00012: val_loss improved from 1.95763 to 1.89018, saving model to saved_models\\audio_classification.hdf5\n",
      "219/219 [==============================] - 1s 4ms/step - loss: 1.9929 - accuracy: 0.2657 - val_loss: 1.8902 - val_accuracy: 0.3034\n",
      "Epoch 13/100\n",
      "212/219 [============================>.] - ETA: 0s - loss: 1.9518 - accuracy: 0.2745\n",
      "Epoch 00013: val_loss improved from 1.89018 to 1.81085, saving model to saved_models\\audio_classification.hdf5\n",
      "219/219 [==============================] - 1s 6ms/step - loss: 1.9524 - accuracy: 0.2746 - val_loss: 1.8109 - val_accuracy: 0.3497\n",
      "Epoch 14/100\n",
      "211/219 [===========================>..] - ETA: 0s - loss: 1.8942 - accuracy: 0.2946\n",
      "Epoch 00014: val_loss improved from 1.81085 to 1.70869, saving model to saved_models\\audio_classification.hdf5\n",
      "219/219 [==============================] - 1s 3ms/step - loss: 1.8907 - accuracy: 0.2952 - val_loss: 1.7087 - val_accuracy: 0.3646\n",
      "Epoch 15/100\n",
      "207/219 [===========================>..] - ETA: 0s - loss: 1.8368 - accuracy: 0.3196\n",
      "Epoch 00015: val_loss improved from 1.70869 to 1.65190, saving model to saved_models\\audio_classification.hdf5\n",
      "219/219 [==============================] - 1s 4ms/step - loss: 1.8308 - accuracy: 0.3218 - val_loss: 1.6519 - val_accuracy: 0.4007\n",
      "Epoch 16/100\n",
      "216/219 [============================>.] - ETA: 0s - loss: 1.7781 - accuracy: 0.3432\n",
      "Epoch 00016: val_loss improved from 1.65190 to 1.63949, saving model to saved_models\\audio_classification.hdf5\n",
      "219/219 [==============================] - 1s 3ms/step - loss: 1.7771 - accuracy: 0.3435 - val_loss: 1.6395 - val_accuracy: 0.4144\n",
      "Epoch 17/100\n",
      "210/219 [===========================>..] - ETA: 0s - loss: 1.7298 - accuracy: 0.3688\n",
      "Epoch 00017: val_loss improved from 1.63949 to 1.55086, saving model to saved_models\\audio_classification.hdf5\n",
      "219/219 [==============================] - 1s 3ms/step - loss: 1.7287 - accuracy: 0.3698 - val_loss: 1.5509 - val_accuracy: 0.4648\n",
      "Epoch 18/100\n",
      "217/219 [============================>.] - ETA: 0s - loss: 1.6946 - accuracy: 0.3822\n",
      "Epoch 00018: val_loss improved from 1.55086 to 1.51431, saving model to saved_models\\audio_classification.hdf5\n",
      "219/219 [==============================] - 1s 3ms/step - loss: 1.6944 - accuracy: 0.3822 - val_loss: 1.5143 - val_accuracy: 0.4568\n",
      "Epoch 19/100\n",
      "196/219 [=========================>....] - ETA: 0s - loss: 1.6657 - accuracy: 0.3945\n",
      "Epoch 00019: val_loss improved from 1.51431 to 1.50834, saving model to saved_models\\audio_classification.hdf5\n",
      "219/219 [==============================] - 1s 3ms/step - loss: 1.6683 - accuracy: 0.3947 - val_loss: 1.5083 - val_accuracy: 0.4585\n",
      "Epoch 20/100\n",
      "196/219 [=========================>....] - ETA: 0s - loss: 1.6186 - accuracy: 0.4112\n",
      "Epoch 00020: val_loss improved from 1.50834 to 1.49018, saving model to saved_models\\audio_classification.hdf5\n",
      "219/219 [==============================] - 1s 3ms/step - loss: 1.6203 - accuracy: 0.4106 - val_loss: 1.4902 - val_accuracy: 0.4642\n",
      "Epoch 21/100\n",
      "218/219 [============================>.] - ETA: 0s - loss: 1.6053 - accuracy: 0.4196\n",
      "Epoch 00021: val_loss improved from 1.49018 to 1.39325, saving model to saved_models\\audio_classification.hdf5\n",
      "219/219 [==============================] - 1s 3ms/step - loss: 1.6050 - accuracy: 0.4195 - val_loss: 1.3932 - val_accuracy: 0.5220\n",
      "Epoch 22/100\n",
      "214/219 [============================>.] - ETA: 0s - loss: 1.5354 - accuracy: 0.4504\n",
      "Epoch 00022: val_loss improved from 1.39325 to 1.38611, saving model to saved_models\\audio_classification.hdf5\n",
      "219/219 [==============================] - 1s 3ms/step - loss: 1.5314 - accuracy: 0.4515 - val_loss: 1.3861 - val_accuracy: 0.5283\n",
      "Epoch 23/100\n",
      "219/219 [==============================] - ETA: 0s - loss: 1.5277 - accuracy: 0.4551\n",
      "Epoch 00023: val_loss improved from 1.38611 to 1.35275, saving model to saved_models\\audio_classification.hdf5\n",
      "219/219 [==============================] - 1s 3ms/step - loss: 1.5277 - accuracy: 0.4551 - val_loss: 1.3528 - val_accuracy: 0.5318\n",
      "Epoch 24/100\n",
      "199/219 [==========================>...] - ETA: 0s - loss: 1.4888 - accuracy: 0.4593\n",
      "Epoch 00024: val_loss improved from 1.35275 to 1.30993, saving model to saved_models\\audio_classification.hdf5\n",
      "219/219 [==============================] - 1s 3ms/step - loss: 1.4834 - accuracy: 0.4624 - val_loss: 1.3099 - val_accuracy: 0.5541\n",
      "Epoch 25/100\n",
      "216/219 [============================>.] - ETA: 0s - loss: 1.4875 - accuracy: 0.4693\n",
      "Epoch 00025: val_loss improved from 1.30993 to 1.28629, saving model to saved_models\\audio_classification.hdf5\n"
     ]
    },
    {
     "name": "stdout",
     "output_type": "stream",
     "text": [
      "219/219 [==============================] - 1s 4ms/step - loss: 1.4872 - accuracy: 0.4699 - val_loss: 1.2863 - val_accuracy: 0.5713\n",
      "Epoch 26/100\n",
      "214/219 [============================>.] - ETA: 0s - loss: 1.4452 - accuracy: 0.4880\n",
      "Epoch 00026: val_loss improved from 1.28629 to 1.26808, saving model to saved_models\\audio_classification.hdf5\n",
      "219/219 [==============================] - 1s 4ms/step - loss: 1.4469 - accuracy: 0.4880 - val_loss: 1.2681 - val_accuracy: 0.5850\n",
      "Epoch 27/100\n",
      "202/219 [==========================>...] - ETA: 0s - loss: 1.4260 - accuracy: 0.4969\n",
      "Epoch 00027: val_loss improved from 1.26808 to 1.22917, saving model to saved_models\\audio_classification.hdf5\n",
      "219/219 [==============================] - 1s 3ms/step - loss: 1.4252 - accuracy: 0.4976 - val_loss: 1.2292 - val_accuracy: 0.6113\n",
      "Epoch 28/100\n",
      "201/219 [==========================>...] - ETA: 0s - loss: 1.3999 - accuracy: 0.5026\n",
      "Epoch 00028: val_loss did not improve from 1.22917\n",
      "219/219 [==============================] - 1s 3ms/step - loss: 1.4103 - accuracy: 0.5002 - val_loss: 1.2312 - val_accuracy: 0.6050\n",
      "Epoch 29/100\n",
      "201/219 [==========================>...] - ETA: 0s - loss: 1.3802 - accuracy: 0.5098\n",
      "Epoch 00029: val_loss improved from 1.22917 to 1.22331, saving model to saved_models\\audio_classification.hdf5\n",
      "219/219 [==============================] - 1s 3ms/step - loss: 1.3784 - accuracy: 0.5095 - val_loss: 1.2233 - val_accuracy: 0.6090\n",
      "Epoch 30/100\n",
      "212/219 [============================>.] - ETA: 0s - loss: 1.3580 - accuracy: 0.5305\n",
      "Epoch 00030: val_loss improved from 1.22331 to 1.18965, saving model to saved_models\\audio_classification.hdf5\n",
      "219/219 [==============================] - 1s 3ms/step - loss: 1.3598 - accuracy: 0.5297 - val_loss: 1.1896 - val_accuracy: 0.6090\n",
      "Epoch 31/100\n",
      "212/219 [============================>.] - ETA: 0s - loss: 1.3385 - accuracy: 0.5379\n",
      "Epoch 00031: val_loss improved from 1.18965 to 1.17277, saving model to saved_models\\audio_classification.hdf5\n",
      "219/219 [==============================] - 1s 3ms/step - loss: 1.3435 - accuracy: 0.5359 - val_loss: 1.1728 - val_accuracy: 0.6216\n",
      "Epoch 32/100\n",
      "215/219 [============================>.] - ETA: 0s - loss: 1.3119 - accuracy: 0.5465\n",
      "Epoch 00032: val_loss improved from 1.17277 to 1.15755, saving model to saved_models\\audio_classification.hdf5\n",
      "219/219 [==============================] - 1s 4ms/step - loss: 1.3134 - accuracy: 0.5459 - val_loss: 1.1575 - val_accuracy: 0.6405\n",
      "Epoch 33/100\n",
      "215/219 [============================>.] - ETA: 0s - loss: 1.3118 - accuracy: 0.5404\n",
      "Epoch 00033: val_loss improved from 1.15755 to 1.13123, saving model to saved_models\\audio_classification.hdf5\n",
      "219/219 [==============================] - 1s 4ms/step - loss: 1.3106 - accuracy: 0.5402 - val_loss: 1.1312 - val_accuracy: 0.6291\n",
      "Epoch 34/100\n",
      "217/219 [============================>.] - ETA: 0s - loss: 1.2806 - accuracy: 0.5603\n",
      "Epoch 00034: val_loss improved from 1.13123 to 1.11604, saving model to saved_models\\audio_classification.hdf5\n",
      "219/219 [==============================] - 1s 3ms/step - loss: 1.2815 - accuracy: 0.5601 - val_loss: 1.1160 - val_accuracy: 0.6382\n",
      "Epoch 35/100\n",
      "215/219 [============================>.] - ETA: 0s - loss: 1.2874 - accuracy: 0.5615\n",
      "Epoch 00035: val_loss did not improve from 1.11604\n",
      "219/219 [==============================] - 1s 2ms/step - loss: 1.2848 - accuracy: 0.5625 - val_loss: 1.1271 - val_accuracy: 0.6377\n",
      "Epoch 36/100\n",
      "196/219 [=========================>....] - ETA: 0s - loss: 1.2670 - accuracy: 0.5686\n",
      "Epoch 00036: val_loss improved from 1.11604 to 1.09435, saving model to saved_models\\audio_classification.hdf5\n",
      "219/219 [==============================] - 1s 4ms/step - loss: 1.2692 - accuracy: 0.5708 - val_loss: 1.0943 - val_accuracy: 0.6463\n",
      "Epoch 37/100\n",
      "196/219 [=========================>....] - ETA: 0s - loss: 1.2717 - accuracy: 0.5732\n",
      "Epoch 00037: val_loss did not improve from 1.09435\n",
      "219/219 [==============================] - 1s 2ms/step - loss: 1.2798 - accuracy: 0.5695 - val_loss: 1.1073 - val_accuracy: 0.6417\n",
      "Epoch 38/100\n",
      "195/219 [=========================>....] - ETA: 0s - loss: 1.2408 - accuracy: 0.5731\n",
      "Epoch 00038: val_loss improved from 1.09435 to 1.07587, saving model to saved_models\\audio_classification.hdf5\n",
      "219/219 [==============================] - 1s 3ms/step - loss: 1.2479 - accuracy: 0.5715 - val_loss: 1.0759 - val_accuracy: 0.6525\n",
      "Epoch 39/100\n",
      "213/219 [============================>.] - ETA: 0s - loss: 1.2370 - accuracy: 0.5783\n",
      "Epoch 00039: val_loss improved from 1.07587 to 1.06482, saving model to saved_models\\audio_classification.hdf5\n",
      "219/219 [==============================] - 1s 3ms/step - loss: 1.2349 - accuracy: 0.5792 - val_loss: 1.0648 - val_accuracy: 0.6508\n",
      "Epoch 40/100\n",
      "196/219 [=========================>....] - ETA: 0s - loss: 1.2202 - accuracy: 0.5800\n",
      "Epoch 00040: val_loss improved from 1.06482 to 1.03183, saving model to saved_models\\audio_classification.hdf5\n",
      "219/219 [==============================] - 1s 4ms/step - loss: 1.2165 - accuracy: 0.5817 - val_loss: 1.0318 - val_accuracy: 0.6617\n",
      "Epoch 41/100\n",
      "196/219 [=========================>....] - ETA: 0s - loss: 1.2257 - accuracy: 0.5850\n",
      "Epoch 00041: val_loss did not improve from 1.03183\n",
      "219/219 [==============================] - 1s 2ms/step - loss: 1.2218 - accuracy: 0.5870 - val_loss: 1.0514 - val_accuracy: 0.6674\n",
      "Epoch 42/100\n",
      "197/219 [=========================>....] - ETA: 0s - loss: 1.2239 - accuracy: 0.5853\n",
      "Epoch 00042: val_loss improved from 1.03183 to 1.02012, saving model to saved_models\\audio_classification.hdf5\n",
      "219/219 [==============================] - 1s 7ms/step - loss: 1.2209 - accuracy: 0.5864 - val_loss: 1.0201 - val_accuracy: 0.6709\n",
      "Epoch 43/100\n",
      "215/219 [============================>.] - ETA: 0s - loss: 1.1839 - accuracy: 0.5988\n",
      "Epoch 00043: val_loss improved from 1.02012 to 1.00053, saving model to saved_models\\audio_classification.hdf5\n",
      "219/219 [==============================] - 1s 3ms/step - loss: 1.1875 - accuracy: 0.5979 - val_loss: 1.0005 - val_accuracy: 0.6714\n",
      "Epoch 44/100\n",
      "217/219 [============================>.] - ETA: 0s - loss: 1.1880 - accuracy: 0.5949\n",
      "Epoch 00044: val_loss did not improve from 1.00053\n",
      "219/219 [==============================] - 1s 2ms/step - loss: 1.1873 - accuracy: 0.5950 - val_loss: 1.0040 - val_accuracy: 0.6749\n",
      "Epoch 45/100\n",
      "215/219 [============================>.] - ETA: 0s - loss: 1.1838 - accuracy: 0.5952\n",
      "Epoch 00045: val_loss did not improve from 1.00053\n",
      "219/219 [==============================] - 1s 2ms/step - loss: 1.1855 - accuracy: 0.5943 - val_loss: 1.0073 - val_accuracy: 0.6760\n",
      "Epoch 46/100\n",
      "197/219 [=========================>....] - ETA: 0s - loss: 1.1651 - accuracy: 0.5907\n",
      "Epoch 00046: val_loss improved from 1.00053 to 0.94929, saving model to saved_models\\audio_classification.hdf5\n",
      "219/219 [==============================] - 1s 3ms/step - loss: 1.1584 - accuracy: 0.5926 - val_loss: 0.9493 - val_accuracy: 0.6863\n",
      "Epoch 47/100\n",
      "205/219 [===========================>..] - ETA: 0s - loss: 1.1579 - accuracy: 0.6143\n",
      "Epoch 00047: val_loss did not improve from 0.94929\n",
      "219/219 [==============================] - 1s 2ms/step - loss: 1.1590 - accuracy: 0.6146 - val_loss: 0.9716 - val_accuracy: 0.6714\n",
      "Epoch 48/100\n",
      "206/219 [===========================>..] - ETA: 0s - loss: 1.1514 - accuracy: 0.6092\n",
      "Epoch 00048: val_loss did not improve from 0.94929\n",
      "219/219 [==============================] - 1s 2ms/step - loss: 1.1482 - accuracy: 0.6109 - val_loss: 0.9624 - val_accuracy: 0.6823\n",
      "Epoch 49/100\n",
      "213/219 [============================>.] - ETA: 0s - loss: 1.1288 - accuracy: 0.6172\n",
      "Epoch 00049: val_loss improved from 0.94929 to 0.94715, saving model to saved_models\\audio_classification.hdf5\n",
      "219/219 [==============================] - 1s 3ms/step - loss: 1.1270 - accuracy: 0.6170 - val_loss: 0.9472 - val_accuracy: 0.6823\n",
      "Epoch 50/100\n",
      "201/219 [==========================>...] - ETA: 0s - loss: 1.1347 - accuracy: 0.6140\n",
      "Epoch 00050: val_loss improved from 0.94715 to 0.92250, saving model to saved_models\\audio_classification.hdf5\n",
      "219/219 [==============================] - 1s 3ms/step - loss: 1.1313 - accuracy: 0.6163 - val_loss: 0.9225 - val_accuracy: 0.6932\n",
      "Epoch 51/100\n",
      "218/219 [============================>.] - ETA: 0s - loss: 1.1553 - accuracy: 0.6092\n",
      "Epoch 00051: val_loss did not improve from 0.92250\n",
      "219/219 [==============================] - 1s 3ms/step - loss: 1.1553 - accuracy: 0.6093 - val_loss: 0.9248 - val_accuracy: 0.6961\n",
      "Epoch 52/100\n",
      "198/219 [==========================>...] - ETA: 0s - loss: 1.1115 - accuracy: 0.6182\n",
      "Epoch 00052: val_loss improved from 0.92250 to 0.91882, saving model to saved_models\\audio_classification.hdf5\n",
      "219/219 [==============================] - 1s 3ms/step - loss: 1.1130 - accuracy: 0.6185 - val_loss: 0.9188 - val_accuracy: 0.6880\n",
      "Epoch 53/100\n",
      "199/219 [==========================>...] - ETA: 0s - loss: 1.1142 - accuracy: 0.6242\n",
      "Epoch 00053: val_loss did not improve from 0.91882\n",
      "219/219 [==============================] - 1s 2ms/step - loss: 1.1172 - accuracy: 0.6208 - val_loss: 0.9362 - val_accuracy: 0.6978\n",
      "Epoch 54/100\n",
      "201/219 [==========================>...] - ETA: 0s - loss: 1.0869 - accuracy: 0.6284\n",
      "Epoch 00054: val_loss improved from 0.91882 to 0.90470, saving model to saved_models\\audio_classification.hdf5\n",
      "219/219 [==============================] - 1s 3ms/step - loss: 1.0873 - accuracy: 0.6282 - val_loss: 0.9047 - val_accuracy: 0.6898\n",
      "Epoch 55/100\n",
      "194/219 [=========================>....] - ETA: 0s - loss: 1.1104 - accuracy: 0.6255\n",
      "Epoch 00055: val_loss did not improve from 0.90470\n",
      "219/219 [==============================] - 1s 2ms/step - loss: 1.1128 - accuracy: 0.6255 - val_loss: 0.9637 - val_accuracy: 0.6926\n",
      "Epoch 56/100\n",
      "200/219 [==========================>...] - ETA: 0s - loss: 1.0852 - accuracy: 0.6350\n",
      "Epoch 00056: val_loss did not improve from 0.90470\n",
      "219/219 [==============================] - 1s 2ms/step - loss: 1.0903 - accuracy: 0.6336 - val_loss: 0.9253 - val_accuracy: 0.7012\n",
      "Epoch 57/100\n",
      "201/219 [==========================>...] - ETA: 0s - loss: 1.0673 - accuracy: 0.6377\n",
      "Epoch 00057: val_loss improved from 0.90470 to 0.89816, saving model to saved_models\\audio_classification.hdf5\n",
      "219/219 [==============================] - 1s 3ms/step - loss: 1.0721 - accuracy: 0.6354 - val_loss: 0.8982 - val_accuracy: 0.7029\n",
      "Epoch 58/100\n",
      "215/219 [============================>.] - ETA: 0s - loss: 1.0977 - accuracy: 0.6385\n",
      "Epoch 00058: val_loss improved from 0.89816 to 0.88712, saving model to saved_models\\audio_classification.hdf5\n",
      "219/219 [==============================] - 1s 3ms/step - loss: 1.0973 - accuracy: 0.6382 - val_loss: 0.8871 - val_accuracy: 0.7195\n",
      "Epoch 59/100\n",
      "213/219 [============================>.] - ETA: 0s - loss: 1.0654 - accuracy: 0.6433\n",
      "Epoch 00059: val_loss did not improve from 0.88712\n",
      "219/219 [==============================] - 1s 2ms/step - loss: 1.0642 - accuracy: 0.6429 - val_loss: 0.8905 - val_accuracy: 0.7115\n",
      "Epoch 60/100\n",
      "200/219 [==========================>...] - ETA: 0s - loss: 1.0893 - accuracy: 0.6330\n",
      "Epoch 00060: val_loss did not improve from 0.88712\n",
      "219/219 [==============================] - 1s 2ms/step - loss: 1.0893 - accuracy: 0.6319 - val_loss: 0.9280 - val_accuracy: 0.6926\n",
      "Epoch 61/100\n",
      "201/219 [==========================>...] - ETA: 0s - loss: 1.0687 - accuracy: 0.6451\n",
      "Epoch 00061: val_loss did not improve from 0.88712\n",
      "219/219 [==============================] - 1s 2ms/step - loss: 1.0708 - accuracy: 0.6418 - val_loss: 0.8886 - val_accuracy: 0.7127\n",
      "Epoch 62/100\n",
      "201/219 [==========================>...] - ETA: 0s - loss: 1.0651 - accuracy: 0.6418\n",
      "Epoch 00062: val_loss did not improve from 0.88712\n",
      "219/219 [==============================] - 1s 2ms/step - loss: 1.0601 - accuracy: 0.6437 - val_loss: 0.9124 - val_accuracy: 0.7075\n",
      "Epoch 63/100\n",
      "198/219 [==========================>...] - ETA: 0s - loss: 1.0705 - accuracy: 0.6372\n",
      "Epoch 00063: val_loss improved from 0.88712 to 0.88495, saving model to saved_models\\audio_classification.hdf5\n",
      "219/219 [==============================] - 1s 3ms/step - loss: 1.0739 - accuracy: 0.6358 - val_loss: 0.8850 - val_accuracy: 0.7167\n",
      "Epoch 64/100\n",
      "213/219 [============================>.] - ETA: 0s - loss: 1.0754 - accuracy: 0.6403\n",
      "Epoch 00064: val_loss did not improve from 0.88495\n",
      "219/219 [==============================] - 1s 2ms/step - loss: 1.0739 - accuracy: 0.6397 - val_loss: 0.8986 - val_accuracy: 0.7081\n",
      "Epoch 65/100\n",
      "197/219 [=========================>....] - ETA: 0s - loss: 1.0388 - accuracy: 0.6518\n",
      "Epoch 00065: val_loss improved from 0.88495 to 0.86600, saving model to saved_models\\audio_classification.hdf5\n",
      "219/219 [==============================] - 1s 3ms/step - loss: 1.0452 - accuracy: 0.6482 - val_loss: 0.8660 - val_accuracy: 0.7218\n",
      "Epoch 66/100\n",
      "212/219 [============================>.] - ETA: 0s - loss: 1.0406 - accuracy: 0.6420\n",
      "Epoch 00066: val_loss improved from 0.86600 to 0.85547, saving model to saved_models\\audio_classification.hdf5\n",
      "219/219 [==============================] - 1s 4ms/step - loss: 1.0407 - accuracy: 0.6431 - val_loss: 0.8555 - val_accuracy: 0.7218\n",
      "Epoch 67/100\n",
      "214/219 [============================>.] - ETA: 0s - loss: 1.0596 - accuracy: 0.6430\n",
      "Epoch 00067: val_loss did not improve from 0.85547\n",
      "219/219 [==============================] - 1s 2ms/step - loss: 1.0575 - accuracy: 0.6438 - val_loss: 0.8811 - val_accuracy: 0.7092\n",
      "Epoch 68/100\n",
      "199/219 [==========================>...] - ETA: 0s - loss: 1.0498 - accuracy: 0.6437\n",
      "Epoch 00068: val_loss did not improve from 0.85547\n",
      "219/219 [==============================] - 1s 2ms/step - loss: 1.0495 - accuracy: 0.6438 - val_loss: 0.8680 - val_accuracy: 0.7230\n",
      "Epoch 69/100\n",
      "198/219 [==========================>...] - ETA: 0s - loss: 1.0269 - accuracy: 0.6562\n",
      "Epoch 00069: val_loss improved from 0.85547 to 0.83952, saving model to saved_models\\audio_classification.hdf5\n",
      "219/219 [==============================] - 1s 3ms/step - loss: 1.0334 - accuracy: 0.6544 - val_loss: 0.8395 - val_accuracy: 0.7270\n",
      "Epoch 70/100\n",
      "196/219 [=========================>....] - ETA: 0s - loss: 1.0640 - accuracy: 0.6445\n",
      "Epoch 00070: val_loss did not improve from 0.83952\n",
      "219/219 [==============================] - 1s 2ms/step - loss: 1.0652 - accuracy: 0.6428 - val_loss: 0.8678 - val_accuracy: 0.7230\n",
      "Epoch 71/100\n",
      "198/219 [==========================>...] - ETA: 0s - loss: 1.0283 - accuracy: 0.6531\n",
      "Epoch 00071: val_loss improved from 0.83952 to 0.82869, saving model to saved_models\\audio_classification.hdf5\n",
      "219/219 [==============================] - 1s 3ms/step - loss: 1.0296 - accuracy: 0.6520 - val_loss: 0.8287 - val_accuracy: 0.7270\n",
      "Epoch 72/100\n",
      "213/219 [============================>.] - ETA: 0s - loss: 1.0269 - accuracy: 0.6567\n",
      "Epoch 00072: val_loss did not improve from 0.82869\n",
      "219/219 [==============================] - 1s 2ms/step - loss: 1.0280 - accuracy: 0.6565 - val_loss: 0.8913 - val_accuracy: 0.7138\n",
      "Epoch 73/100\n",
      "200/219 [==========================>...] - ETA: 0s - loss: 1.0175 - accuracy: 0.6623\n",
      "Epoch 00073: val_loss did not improve from 0.82869\n",
      "219/219 [==============================] - 1s 2ms/step - loss: 1.0188 - accuracy: 0.6620 - val_loss: 0.8341 - val_accuracy: 0.7321\n",
      "Epoch 74/100\n",
      "203/219 [==========================>...] - ETA: 0s - loss: 1.0279 - accuracy: 0.6573\n",
      "Epoch 00074: val_loss did not improve from 0.82869\n",
      "219/219 [==============================] - 1s 2ms/step - loss: 1.0340 - accuracy: 0.6557 - val_loss: 0.8324 - val_accuracy: 0.7424\n",
      "Epoch 75/100\n",
      "214/219 [============================>.] - ETA: 0s - loss: 1.0218 - accuracy: 0.6606\n",
      "Epoch 00075: val_loss did not improve from 0.82869\n",
      "219/219 [==============================] - 1s 3ms/step - loss: 1.0229 - accuracy: 0.6584 - val_loss: 0.8452 - val_accuracy: 0.7350\n",
      "Epoch 76/100\n",
      "219/219 [==============================] - ETA: 0s - loss: 1.0106 - accuracy: 0.6623\n",
      "Epoch 00076: val_loss did not improve from 0.82869\n",
      "219/219 [==============================] - 1s 3ms/step - loss: 1.0106 - accuracy: 0.6623 - val_loss: 0.8317 - val_accuracy: 0.7350\n",
      "Epoch 77/100\n",
      "217/219 [============================>.] - ETA: 0s - loss: 1.0050 - accuracy: 0.6630\n",
      "Epoch 00077: val_loss did not improve from 0.82869\n",
      "219/219 [==============================] - 1s 2ms/step - loss: 1.0044 - accuracy: 0.6630 - val_loss: 0.8550 - val_accuracy: 0.7293\n",
      "Epoch 78/100\n",
      "215/219 [============================>.] - ETA: 0s - loss: 1.0145 - accuracy: 0.6574\n"
     ]
    },
    {
     "name": "stdout",
     "output_type": "stream",
     "text": [
      "Epoch 00078: val_loss did not improve from 0.82869\n",
      "219/219 [==============================] - 1s 3ms/step - loss: 1.0148 - accuracy: 0.6567 - val_loss: 0.8591 - val_accuracy: 0.7338\n",
      "Epoch 79/100\n",
      "203/219 [==========================>...] - ETA: 0s - loss: 1.0018 - accuracy: 0.6669\n",
      "Epoch 00079: val_loss did not improve from 0.82869\n",
      "219/219 [==============================] - 1s 2ms/step - loss: 1.0033 - accuracy: 0.6667 - val_loss: 0.8608 - val_accuracy: 0.7275\n",
      "Epoch 80/100\n",
      "201/219 [==========================>...] - ETA: 0s - loss: 1.0032 - accuracy: 0.6639\n",
      "Epoch 00080: val_loss improved from 0.82869 to 0.81622, saving model to saved_models\\audio_classification.hdf5\n",
      "219/219 [==============================] - 1s 4ms/step - loss: 1.0013 - accuracy: 0.6628 - val_loss: 0.8162 - val_accuracy: 0.7401\n",
      "Epoch 81/100\n",
      "216/219 [============================>.] - ETA: 0s - loss: 1.0011 - accuracy: 0.6630\n",
      "Epoch 00081: val_loss did not improve from 0.81622\n",
      "219/219 [==============================] - 1s 3ms/step - loss: 0.9996 - accuracy: 0.6631 - val_loss: 0.8415 - val_accuracy: 0.7344\n",
      "Epoch 82/100\n",
      "218/219 [============================>.] - ETA: 0s - loss: 0.9825 - accuracy: 0.6700\n",
      "Epoch 00082: val_loss did not improve from 0.81622\n",
      "219/219 [==============================] - 1s 2ms/step - loss: 0.9825 - accuracy: 0.6700 - val_loss: 0.8194 - val_accuracy: 0.7533\n",
      "Epoch 83/100\n",
      "198/219 [==========================>...] - ETA: 0s - loss: 0.9803 - accuracy: 0.6761\n",
      "Epoch 00083: val_loss improved from 0.81622 to 0.81053, saving model to saved_models\\audio_classification.hdf5\n",
      "219/219 [==============================] - 1s 4ms/step - loss: 0.9827 - accuracy: 0.6757 - val_loss: 0.8105 - val_accuracy: 0.7550\n",
      "Epoch 84/100\n",
      "219/219 [==============================] - ETA: 0s - loss: 0.9970 - accuracy: 0.6634\n",
      "Epoch 00084: val_loss did not improve from 0.81053\n",
      "219/219 [==============================] - 1s 2ms/step - loss: 0.9970 - accuracy: 0.6634 - val_loss: 0.8190 - val_accuracy: 0.7499\n",
      "Epoch 85/100\n",
      "197/219 [=========================>....] - ETA: 0s - loss: 0.9626 - accuracy: 0.6778\n",
      "Epoch 00085: val_loss did not improve from 0.81053\n",
      "219/219 [==============================] - 1s 2ms/step - loss: 0.9630 - accuracy: 0.6747 - val_loss: 0.8168 - val_accuracy: 0.7436\n",
      "Epoch 86/100\n",
      "214/219 [============================>.] - ETA: 0s - loss: 0.9949 - accuracy: 0.6711\n",
      "Epoch 00086: val_loss did not improve from 0.81053\n",
      "219/219 [==============================] - 1s 2ms/step - loss: 0.9955 - accuracy: 0.6720 - val_loss: 0.8313 - val_accuracy: 0.7310\n",
      "Epoch 87/100\n",
      "200/219 [==========================>...] - ETA: 0s - loss: 1.0081 - accuracy: 0.6691\n",
      "Epoch 00087: val_loss did not improve from 0.81053\n",
      "219/219 [==============================] - 1s 2ms/step - loss: 1.0001 - accuracy: 0.6713 - val_loss: 0.8206 - val_accuracy: 0.7430\n",
      "Epoch 88/100\n",
      "194/219 [=========================>....] - ETA: 0s - loss: 0.9800 - accuracy: 0.6683\n",
      "Epoch 00088: val_loss did not improve from 0.81053\n",
      "219/219 [==============================] - 1s 2ms/step - loss: 0.9862 - accuracy: 0.6684 - val_loss: 0.8138 - val_accuracy: 0.7470\n",
      "Epoch 89/100\n",
      "201/219 [==========================>...] - ETA: 0s - loss: 0.9491 - accuracy: 0.6821\n",
      "Epoch 00089: val_loss improved from 0.81053 to 0.78542, saving model to saved_models\\audio_classification.hdf5\n",
      "219/219 [==============================] - 1s 3ms/step - loss: 0.9530 - accuracy: 0.6809 - val_loss: 0.7854 - val_accuracy: 0.7493\n",
      "Epoch 90/100\n",
      "194/219 [=========================>....] - ETA: 0s - loss: 0.9789 - accuracy: 0.6711\n",
      "Epoch 00090: val_loss did not improve from 0.78542\n",
      "219/219 [==============================] - 1s 2ms/step - loss: 0.9839 - accuracy: 0.6700 - val_loss: 0.8191 - val_accuracy: 0.7321\n",
      "Epoch 91/100\n",
      "198/219 [==========================>...] - ETA: 0s - loss: 0.9767 - accuracy: 0.6749\n",
      "Epoch 00091: val_loss did not improve from 0.78542\n",
      "219/219 [==============================] - 1s 2ms/step - loss: 0.9733 - accuracy: 0.6744 - val_loss: 0.8071 - val_accuracy: 0.7407\n",
      "Epoch 92/100\n",
      "199/219 [==========================>...] - ETA: 0s - loss: 0.9929 - accuracy: 0.6691\n",
      "Epoch 00092: val_loss did not improve from 0.78542\n",
      "219/219 [==============================] - 1s 2ms/step - loss: 0.9898 - accuracy: 0.6693 - val_loss: 0.8264 - val_accuracy: 0.7378\n",
      "Epoch 93/100\n",
      "194/219 [=========================>....] - ETA: 0s - loss: 0.9972 - accuracy: 0.6640\n",
      "Epoch 00093: val_loss did not improve from 0.78542\n",
      "219/219 [==============================] - 1s 2ms/step - loss: 0.9972 - accuracy: 0.6654 - val_loss: 0.8138 - val_accuracy: 0.7418\n",
      "Epoch 94/100\n",
      "199/219 [==========================>...] - ETA: 0s - loss: 1.0072 - accuracy: 0.6701 ETA: 0s - loss: 1.0119 - accuracy: \n",
      "Epoch 00094: val_loss did not improve from 0.78542\n",
      "219/219 [==============================] - 1s 2ms/step - loss: 1.0046 - accuracy: 0.6703 - val_loss: 0.7970 - val_accuracy: 0.7441\n",
      "Epoch 95/100\n",
      "196/219 [=========================>....] - ETA: 0s - loss: 0.9861 - accuracy: 0.6775\n",
      "Epoch 00095: val_loss did not improve from 0.78542\n",
      "219/219 [==============================] - 1s 2ms/step - loss: 0.9914 - accuracy: 0.6740 - val_loss: 0.8140 - val_accuracy: 0.7436\n",
      "Epoch 96/100\n",
      "198/219 [==========================>...] - ETA: 0s - loss: 0.9598 - accuracy: 0.6758\n",
      "Epoch 00096: val_loss improved from 0.78542 to 0.78194, saving model to saved_models\\audio_classification.hdf5\n",
      "219/219 [==============================] - 1s 3ms/step - loss: 0.9667 - accuracy: 0.6723 - val_loss: 0.7819 - val_accuracy: 0.7550\n",
      "Epoch 97/100\n",
      "211/219 [===========================>..] - ETA: 0s - loss: 0.9797 - accuracy: 0.6740\n",
      "Epoch 00097: val_loss improved from 0.78194 to 0.77915, saving model to saved_models\\audio_classification.hdf5\n",
      "219/219 [==============================] - 1s 3ms/step - loss: 0.9789 - accuracy: 0.6737 - val_loss: 0.7791 - val_accuracy: 0.7510\n",
      "Epoch 98/100\n",
      "207/219 [===========================>..] - ETA: 0s - loss: 0.9622 - accuracy: 0.6781\n",
      "Epoch 00098: val_loss improved from 0.77915 to 0.77684, saving model to saved_models\\audio_classification.hdf5\n",
      "219/219 [==============================] - 1s 3ms/step - loss: 0.9595 - accuracy: 0.6792 - val_loss: 0.7768 - val_accuracy: 0.7544\n",
      "Epoch 99/100\n",
      "214/219 [============================>.] - ETA: 0s - loss: 0.9483 - accuracy: 0.6831\n",
      "Epoch 00099: val_loss did not improve from 0.77684\n",
      "219/219 [==============================] - 1s 3ms/step - loss: 0.9474 - accuracy: 0.6838 - val_loss: 0.7870 - val_accuracy: 0.7556\n",
      "Epoch 100/100\n",
      "214/219 [============================>.] - ETA: 0s - loss: 0.9646 - accuracy: 0.6799\n",
      "Epoch 00100: val_loss did not improve from 0.77684\n",
      "219/219 [==============================] - 1s 3ms/step - loss: 0.9658 - accuracy: 0.6786 - val_loss: 0.7968 - val_accuracy: 0.7516\n",
      "Training completed in time:  0:01:10.680855\n"
     ]
    }
   ],
   "source": [
    "## Trianing my model\n",
    "from tensorflow.keras.callbacks import ModelCheckpoint\n",
    "from datetime import datetime \n",
    "\n",
    "num_epochs = 100\n",
    "num_batch_size = 32\n",
    "\n",
    "checkpointer = ModelCheckpoint(filepath='saved_models/audio_classification.hdf5', \n",
    "                               verbose=1, save_best_only=True)\n",
    "start = datetime.now()\n",
    "\n",
    "model.fit(X_train, y_train, batch_size=num_batch_size, epochs=num_epochs, validation_data=(X_test, y_test), callbacks=[checkpointer], verbose=1)\n",
    "\n",
    "\n",
    "duration = datetime.now() - start\n",
    "print(\"Training completed in time: \", duration)"
   ]
  },
  {
   "cell_type": "code",
   "execution_count": 28,
   "id": "7cd6681e",
   "metadata": {},
   "outputs": [
    {
     "name": "stdout",
     "output_type": "stream",
     "text": [
      "0.7515740990638733\n"
     ]
    }
   ],
   "source": [
    "test_accuracy=model.evaluate(X_test,y_test,verbose=0)\n",
    "print(test_accuracy[1])"
   ]
  }
 ],
 "metadata": {
  "kernelspec": {
   "display_name": "Python 3",
   "language": "python",
   "name": "python3"
  },
  "language_info": {
   "codemirror_mode": {
    "name": "ipython",
    "version": 3
   },
   "file_extension": ".py",
   "mimetype": "text/x-python",
   "name": "python",
   "nbconvert_exporter": "python",
   "pygments_lexer": "ipython3",
   "version": "3.8.8"
  }
 },
 "nbformat": 4,
 "nbformat_minor": 5
}
